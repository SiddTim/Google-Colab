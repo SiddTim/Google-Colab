{
  "nbformat": 4,
  "nbformat_minor": 0,
  "metadata": {
    "colab": {
      "name": "LINUX_TERMINAL_IN_COLAB.ipynb",
      "provenance": [],
      "authorship_tag": "ABX9TyP+ERvzl0sl85fmmLzOy6mz",
      "include_colab_link": true
    },
    "kernelspec": {
      "name": "python3",
      "display_name": "Python 3"
    }
  },
  "cells": [
    {
      "cell_type": "markdown",
      "metadata": {
        "id": "view-in-github",
        "colab_type": "text"
      },
      "source": [
        "<a href=\"https://colab.research.google.com/github/SiddTim/Google-Colab/blob/master/Google%20Colab.ipynb\" target=\"_parent\"><img src=\"https://colab.research.google.com/assets/colab-badge.svg\" alt=\"Open In Colab\"/></a>"
      ]
    },
    {
      "cell_type": "code",
      "metadata": {
        "id": "K2hkvkxmXkPF",
        "colab_type": "code",
        "colab": {}
      },
      "source": [
        "ls # Listing Directories"
      ],
      "execution_count": null,
      "outputs": []
    },
    {
      "cell_type": "code",
      "metadata": {
        "id": "h4Q9HMMCXrgn",
        "colab_type": "code",
        "colab": {}
      },
      "source": [
        "pwd # Print working directory"
      ],
      "execution_count": null,
      "outputs": []
    },
    {
      "cell_type": "code",
      "metadata": {
        "id": "Lyof9Ol-XuJ-",
        "colab_type": "code",
        "colab": {}
      },
      "source": [
        "mkdir DirectoryName # Creating a Directory"
      ],
      "execution_count": null,
      "outputs": []
    },
    {
      "cell_type": "code",
      "metadata": {
        "id": "wJYWrkYrX2eE",
        "colab_type": "code",
        "colab": {}
      },
      "source": [
        "cd Directory # Change Directory"
      ],
      "execution_count": null,
      "outputs": []
    },
    {
      "cell_type": "code",
      "metadata": {
        "id": "PF8euq3CX7fG",
        "colab_type": "code",
        "colab": {}
      },
      "source": [
        "cat >file.txt # Creating a new File"
      ],
      "execution_count": null,
      "outputs": []
    },
    {
      "cell_type": "code",
      "metadata": {
        "id": "MEOUDXKdr4c5",
        "colab_type": "code",
        "colab": {}
      },
      "source": [
        "cat file.txt # Viewing the File"
      ],
      "execution_count": null,
      "outputs": []
    },
    {
      "cell_type": "code",
      "metadata": {
        "id": "rbhsFmn3YMT9",
        "colab_type": "code",
        "colab": {}
      },
      "source": [
        "!apt install packagename # Installing packages (OR) Instead of using !apt, We can use !pip "
      ],
      "execution_count": null,
      "outputs": []
    },
    {
      "cell_type": "code",
      "metadata": {
        "id": "nMq0UMMUYSKV",
        "colab_type": "code",
        "colab": {}
      },
      "source": [
        "!apt list # Listing packages"
      ],
      "execution_count": 4,
      "outputs": []
    },
    {
      "cell_type": "code",
      "metadata": {
        "id": "NtgBQDTUYcc7",
        "colab_type": "code",
        "colab": {}
      },
      "source": [
        "!apt # For installation of any package (OR) !pip "
      ],
      "execution_count": null,
      "outputs": []
    },
    {
      "cell_type": "code",
      "metadata": {
        "id": "1BlUdkZjZ36a",
        "colab_type": "code",
        "colab": {}
      },
      "source": [
        "!pip install jira # For auto-completion of code"
      ],
      "execution_count": null,
      "outputs": []
    },
    {
      "cell_type": "code",
      "metadata": {
        "id": "rvCXrWn-al7B",
        "colab_type": "code",
        "colab": {}
      },
      "source": [
        "!ls /bin"
      ],
      "execution_count": null,
      "outputs": []
    },
    {
      "cell_type": "code",
      "metadata": {
        "id": "zHZ7RyH8apOx",
        "colab_type": "code",
        "colab": {}
      },
      "source": [
        "%history # Lists previously used commands"
      ],
      "execution_count": null,
      "outputs": []
    },
    {
      "cell_type": "code",
      "metadata": {
        "id": "ZJLiRnkjcH68",
        "colab_type": "code",
        "colab": {}
      },
      "source": [
        ""
      ],
      "execution_count": null,
      "outputs": []
    }
  ]
}